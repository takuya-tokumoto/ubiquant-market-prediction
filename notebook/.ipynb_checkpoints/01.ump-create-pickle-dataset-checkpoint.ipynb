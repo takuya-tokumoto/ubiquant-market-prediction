{
 "cells": [
  {
   "cell_type": "markdown",
   "id": "5b8ebde5",
   "metadata": {
    "papermill": {
     "duration": 0.013617,
     "end_time": "2022-04-14T14:56:50.255199",
     "exception": false,
     "start_time": "2022-04-14T14:56:50.241582",
     "status": "completed"
    },
    "tags": []
   },
   "source": [
    "#  UMP: Create Pickle Dataset\n",
    "## Import Packages"
   ]
  },
  {
   "cell_type": "code",
   "execution_count": 1,
   "id": "31f0a153",
   "metadata": {
    "execution": {
     "iopub.execute_input": "2022-04-14T14:56:50.288360Z",
     "iopub.status.busy": "2022-04-14T14:56:50.283838Z",
     "iopub.status.idle": "2022-04-14T14:56:50.293026Z",
     "shell.execute_reply": "2022-04-14T14:56:50.292284Z",
     "shell.execute_reply.started": "2022-01-23T13:43:17.188694Z"
    },
    "papermill": {
     "duration": 0.025315,
     "end_time": "2022-04-14T14:56:50.293179",
     "exception": false,
     "start_time": "2022-04-14T14:56:50.267864",
     "status": "completed"
    },
    "tags": []
   },
   "outputs": [],
   "source": [
    "import os\n",
    "import pandas as pd\n",
    "import numpy as np\n",
    "import gc\n",
    "import math"
   ]
  },
  {
   "cell_type": "markdown",
   "id": "ad39efdf",
   "metadata": {
    "papermill": {
     "duration": 0.012754,
     "end_time": "2022-04-14T14:56:50.318764",
     "exception": false,
     "start_time": "2022-04-14T14:56:50.306010",
     "status": "completed"
    },
    "tags": []
   },
   "source": [
    "## Utilities"
   ]
  },
  {
   "cell_type": "code",
   "execution_count": 2,
   "id": "85ba9908",
   "metadata": {
    "execution": {
     "iopub.execute_input": "2022-04-14T14:56:50.349019Z",
     "iopub.status.busy": "2022-04-14T14:56:50.348325Z",
     "iopub.status.idle": "2022-04-14T14:56:50.350831Z",
     "shell.execute_reply": "2022-04-14T14:56:50.350323Z",
     "shell.execute_reply.started": "2022-01-23T13:43:20.607429Z"
    },
    "papermill": {
     "duration": 0.019315,
     "end_time": "2022-04-14T14:56:50.350981",
     "exception": false,
     "start_time": "2022-04-14T14:56:50.331666",
     "status": "completed"
    },
    "tags": []
   },
   "outputs": [],
   "source": [
    "def reduce_memory_usage(df, features):\n",
    "    for feature in features:\n",
    "        item = df[feature].astype(np.float16)\n",
    "        df[feature] = item\n",
    "        del item\n",
    "        gc.collect()"
   ]
  },
  {
   "cell_type": "markdown",
   "id": "a334a6af",
   "metadata": {
    "papermill": {
     "duration": 0.012346,
     "end_time": "2022-04-14T14:56:50.376183",
     "exception": false,
     "start_time": "2022-04-14T14:56:50.363837",
     "status": "completed"
    },
    "tags": []
   },
   "source": [
    "## Import dataset"
   ]
  },
  {
   "cell_type": "code",
   "execution_count": 3,
   "id": "d0bd6f1b",
   "metadata": {
    "execution": {
     "iopub.execute_input": "2022-04-14T14:56:50.403915Z",
     "iopub.status.busy": "2022-04-14T14:56:50.403310Z",
     "iopub.status.idle": "2022-04-14T14:57:22.730734Z",
     "shell.execute_reply": "2022-04-14T14:57:22.730203Z",
     "shell.execute_reply.started": "2022-01-23T13:43:45.823597Z"
    },
    "papermill": {
     "duration": 32.342276,
     "end_time": "2022-04-14T14:57:22.730838",
     "exception": false,
     "start_time": "2022-04-14T14:56:50.388562",
     "status": "completed"
    },
    "tags": []
   },
   "outputs": [
    {
     "name": "stdout",
     "output_type": "stream",
     "text": [
      "CPU times: user 5.31 s, sys: 8.02 s, total: 13.3 s\n",
      "Wall time: 32.3 s\n"
     ]
    },
    {
     "data": {
      "text/html": [
       "<div>\n",
       "<style scoped>\n",
       "    .dataframe tbody tr th:only-of-type {\n",
       "        vertical-align: middle;\n",
       "    }\n",
       "\n",
       "    .dataframe tbody tr th {\n",
       "        vertical-align: top;\n",
       "    }\n",
       "\n",
       "    .dataframe thead th {\n",
       "        text-align: right;\n",
       "    }\n",
       "</style>\n",
       "<table border=\"1\" class=\"dataframe\">\n",
       "  <thead>\n",
       "    <tr style=\"text-align: right;\">\n",
       "      <th></th>\n",
       "      <th>investment_id</th>\n",
       "      <th>time_id</th>\n",
       "      <th>f_0</th>\n",
       "      <th>f_1</th>\n",
       "      <th>f_2</th>\n",
       "      <th>f_3</th>\n",
       "      <th>f_4</th>\n",
       "      <th>f_5</th>\n",
       "      <th>f_6</th>\n",
       "      <th>f_7</th>\n",
       "      <th>...</th>\n",
       "      <th>f_291</th>\n",
       "      <th>f_292</th>\n",
       "      <th>f_293</th>\n",
       "      <th>f_294</th>\n",
       "      <th>f_295</th>\n",
       "      <th>f_296</th>\n",
       "      <th>f_297</th>\n",
       "      <th>f_298</th>\n",
       "      <th>f_299</th>\n",
       "      <th>target</th>\n",
       "    </tr>\n",
       "  </thead>\n",
       "  <tbody>\n",
       "    <tr>\n",
       "      <th>0</th>\n",
       "      <td>1</td>\n",
       "      <td>0</td>\n",
       "      <td>0.932573</td>\n",
       "      <td>0.113691</td>\n",
       "      <td>-0.402206</td>\n",
       "      <td>0.378386</td>\n",
       "      <td>-0.203938</td>\n",
       "      <td>-0.413469</td>\n",
       "      <td>0.965623</td>\n",
       "      <td>1.230508</td>\n",
       "      <td>...</td>\n",
       "      <td>-1.095620</td>\n",
       "      <td>0.200075</td>\n",
       "      <td>0.819155</td>\n",
       "      <td>0.941183</td>\n",
       "      <td>-0.086764</td>\n",
       "      <td>-1.087009</td>\n",
       "      <td>-1.044826</td>\n",
       "      <td>-0.287605</td>\n",
       "      <td>0.321566</td>\n",
       "      <td>-0.300875</td>\n",
       "    </tr>\n",
       "    <tr>\n",
       "      <th>1</th>\n",
       "      <td>2</td>\n",
       "      <td>0</td>\n",
       "      <td>0.810802</td>\n",
       "      <td>-0.514115</td>\n",
       "      <td>0.742368</td>\n",
       "      <td>-0.616673</td>\n",
       "      <td>-0.194255</td>\n",
       "      <td>1.771210</td>\n",
       "      <td>1.428127</td>\n",
       "      <td>1.134144</td>\n",
       "      <td>...</td>\n",
       "      <td>0.912726</td>\n",
       "      <td>-0.734579</td>\n",
       "      <td>0.819155</td>\n",
       "      <td>0.941183</td>\n",
       "      <td>-0.387617</td>\n",
       "      <td>-1.087009</td>\n",
       "      <td>-0.929529</td>\n",
       "      <td>-0.974060</td>\n",
       "      <td>-0.343624</td>\n",
       "      <td>-0.231040</td>\n",
       "    </tr>\n",
       "    <tr>\n",
       "      <th>2</th>\n",
       "      <td>6</td>\n",
       "      <td>0</td>\n",
       "      <td>0.393974</td>\n",
       "      <td>0.615937</td>\n",
       "      <td>0.567806</td>\n",
       "      <td>-0.607963</td>\n",
       "      <td>0.068883</td>\n",
       "      <td>-1.083155</td>\n",
       "      <td>0.979656</td>\n",
       "      <td>-1.125681</td>\n",
       "      <td>...</td>\n",
       "      <td>0.912726</td>\n",
       "      <td>-0.551904</td>\n",
       "      <td>-1.220772</td>\n",
       "      <td>-1.060166</td>\n",
       "      <td>-0.219097</td>\n",
       "      <td>-1.087009</td>\n",
       "      <td>-0.612428</td>\n",
       "      <td>-0.113944</td>\n",
       "      <td>0.243608</td>\n",
       "      <td>0.568807</td>\n",
       "    </tr>\n",
       "    <tr>\n",
       "      <th>3</th>\n",
       "      <td>7</td>\n",
       "      <td>0</td>\n",
       "      <td>-2.343535</td>\n",
       "      <td>-0.011870</td>\n",
       "      <td>1.874606</td>\n",
       "      <td>-0.606346</td>\n",
       "      <td>-0.586827</td>\n",
       "      <td>-0.815737</td>\n",
       "      <td>0.778096</td>\n",
       "      <td>0.298990</td>\n",
       "      <td>...</td>\n",
       "      <td>0.912726</td>\n",
       "      <td>-0.266359</td>\n",
       "      <td>-1.220772</td>\n",
       "      <td>0.941183</td>\n",
       "      <td>-0.609113</td>\n",
       "      <td>0.104928</td>\n",
       "      <td>-0.783423</td>\n",
       "      <td>1.151730</td>\n",
       "      <td>-0.773309</td>\n",
       "      <td>-1.064780</td>\n",
       "    </tr>\n",
       "    <tr>\n",
       "      <th>4</th>\n",
       "      <td>8</td>\n",
       "      <td>0</td>\n",
       "      <td>0.842057</td>\n",
       "      <td>-0.262993</td>\n",
       "      <td>2.330030</td>\n",
       "      <td>-0.583422</td>\n",
       "      <td>-0.618392</td>\n",
       "      <td>-0.742814</td>\n",
       "      <td>-0.946789</td>\n",
       "      <td>1.230508</td>\n",
       "      <td>...</td>\n",
       "      <td>0.912726</td>\n",
       "      <td>-0.741355</td>\n",
       "      <td>-1.220772</td>\n",
       "      <td>0.941183</td>\n",
       "      <td>-0.588445</td>\n",
       "      <td>0.104928</td>\n",
       "      <td>0.753279</td>\n",
       "      <td>1.345611</td>\n",
       "      <td>-0.737624</td>\n",
       "      <td>-0.531940</td>\n",
       "    </tr>\n",
       "  </tbody>\n",
       "</table>\n",
       "<p>5 rows × 303 columns</p>\n",
       "</div>"
      ],
      "text/plain": [
       "   investment_id  time_id       f_0       f_1       f_2       f_3       f_4  \\\n",
       "0              1        0  0.932573  0.113691 -0.402206  0.378386 -0.203938   \n",
       "1              2        0  0.810802 -0.514115  0.742368 -0.616673 -0.194255   \n",
       "2              6        0  0.393974  0.615937  0.567806 -0.607963  0.068883   \n",
       "3              7        0 -2.343535 -0.011870  1.874606 -0.606346 -0.586827   \n",
       "4              8        0  0.842057 -0.262993  2.330030 -0.583422 -0.618392   \n",
       "\n",
       "        f_5       f_6       f_7  ...     f_291     f_292     f_293     f_294  \\\n",
       "0 -0.413469  0.965623  1.230508  ... -1.095620  0.200075  0.819155  0.941183   \n",
       "1  1.771210  1.428127  1.134144  ...  0.912726 -0.734579  0.819155  0.941183   \n",
       "2 -1.083155  0.979656 -1.125681  ...  0.912726 -0.551904 -1.220772 -1.060166   \n",
       "3 -0.815737  0.778096  0.298990  ...  0.912726 -0.266359 -1.220772  0.941183   \n",
       "4 -0.742814 -0.946789  1.230508  ...  0.912726 -0.741355 -1.220772  0.941183   \n",
       "\n",
       "      f_295     f_296     f_297     f_298     f_299    target  \n",
       "0 -0.086764 -1.087009 -1.044826 -0.287605  0.321566 -0.300875  \n",
       "1 -0.387617 -1.087009 -0.929529 -0.974060 -0.343624 -0.231040  \n",
       "2 -0.219097 -1.087009 -0.612428 -0.113944  0.243608  0.568807  \n",
       "3 -0.609113  0.104928 -0.783423  1.151730 -0.773309 -1.064780  \n",
       "4 -0.588445  0.104928  0.753279  1.345611 -0.737624 -0.531940  \n",
       "\n",
       "[5 rows x 303 columns]"
      ]
     },
     "execution_count": 3,
     "metadata": {},
     "output_type": "execute_result"
    }
   ],
   "source": [
    "%%time\n",
    "n_features = 300\n",
    "features = [f'f_{i}' for i in range(n_features)]\n",
    "feature_columns = ['investment_id', 'time_id'] + features\n",
    "train = pd.read_parquet('../input/ubiquant-parquet/train_low_mem.parquet', columns=feature_columns + [\"target\"])\n",
    "train.head()"
   ]
  },
  {
   "cell_type": "markdown",
   "id": "ac0bf190",
   "metadata": {
    "papermill": {
     "duration": 0.008708,
     "end_time": "2022-04-14T14:57:22.748883",
     "exception": false,
     "start_time": "2022-04-14T14:57:22.740175",
     "status": "completed"
    },
    "tags": []
   },
   "source": [
    "## Reducing Memories\n",
    "There are totally 3141410 records and each record has 303 columns. If we convert all data type to int16 and float16, then the total memory of training data will be  (3141410 x 303 x 2)  / (1024^3) G, which is about 1.8G."
   ]
  },
  {
   "cell_type": "code",
   "execution_count": 4,
   "id": "046eb771",
   "metadata": {
    "execution": {
     "iopub.execute_input": "2022-04-14T14:57:22.771438Z",
     "iopub.status.busy": "2022-04-14T14:57:22.770892Z",
     "iopub.status.idle": "2022-04-14T14:57:22.806702Z",
     "shell.execute_reply": "2022-04-14T14:57:22.806290Z",
     "shell.execute_reply.started": "2022-01-23T13:44:45.464899Z"
    },
    "papermill": {
     "duration": 0.047914,
     "end_time": "2022-04-14T14:57:22.806810",
     "exception": false,
     "start_time": "2022-04-14T14:57:22.758896",
     "status": "completed"
    },
    "tags": []
   },
   "outputs": [
    {
     "name": "stdout",
     "output_type": "stream",
     "text": [
      "<class 'pandas.core.frame.DataFrame'>\n",
      "RangeIndex: 3141410 entries, 0 to 3141409\n",
      "Columns: 303 entries, investment_id to target\n",
      "dtypes: float32(301), uint16(2)\n",
      "memory usage: 3.5 GB\n"
     ]
    }
   ],
   "source": [
    "train.info()"
   ]
  },
  {
   "cell_type": "code",
   "execution_count": 5,
   "id": "5276f67d",
   "metadata": {
    "execution": {
     "iopub.execute_input": "2022-04-14T14:57:22.832167Z",
     "iopub.status.busy": "2022-04-14T14:57:22.831611Z",
     "iopub.status.idle": "2022-04-14T14:59:29.120969Z",
     "shell.execute_reply": "2022-04-14T14:59:29.121480Z",
     "shell.execute_reply.started": "2022-01-23T13:44:54.322281Z"
    },
    "papermill": {
     "duration": 126.30463,
     "end_time": "2022-04-14T14:59:29.121653",
     "exception": false,
     "start_time": "2022-04-14T14:57:22.817023",
     "status": "completed"
    },
    "tags": []
   },
   "outputs": [
    {
     "name": "stdout",
     "output_type": "stream",
     "text": [
      "CPU times: user 1min 15s, sys: 50.9 s, total: 2min 6s\n",
      "Wall time: 2min 6s\n"
     ]
    }
   ],
   "source": [
    "%%time\n",
    "reduce_memory_usage(train, features + [\"target\"])"
   ]
  },
  {
   "cell_type": "code",
   "execution_count": 6,
   "id": "082d9932",
   "metadata": {
    "execution": {
     "iopub.execute_input": "2022-04-14T14:59:29.173416Z",
     "iopub.status.busy": "2022-04-14T14:59:29.163759Z",
     "iopub.status.idle": "2022-04-14T14:59:29.177179Z",
     "shell.execute_reply": "2022-04-14T14:59:29.176750Z",
     "shell.execute_reply.started": "2022-01-23T13:48:21.742149Z"
    },
    "papermill": {
     "duration": 0.041095,
     "end_time": "2022-04-14T14:59:29.177283",
     "exception": false,
     "start_time": "2022-04-14T14:59:29.136188",
     "status": "completed"
    },
    "tags": []
   },
   "outputs": [
    {
     "name": "stdout",
     "output_type": "stream",
     "text": [
      "<class 'pandas.core.frame.DataFrame'>\n",
      "RangeIndex: 3141410 entries, 0 to 3141409\n",
      "Columns: 303 entries, investment_id to target\n",
      "dtypes: float16(301), uint16(2)\n",
      "memory usage: 1.8 GB\n"
     ]
    }
   ],
   "source": [
    "train.info()"
   ]
  },
  {
   "cell_type": "code",
   "execution_count": 7,
   "id": "83bc89c6",
   "metadata": {
    "execution": {
     "iopub.execute_input": "2022-04-14T14:59:29.203844Z",
     "iopub.status.busy": "2022-04-14T14:59:29.203222Z",
     "iopub.status.idle": "2022-04-14T14:59:31.328019Z",
     "shell.execute_reply": "2022-04-14T14:59:31.327364Z",
     "shell.execute_reply.started": "2022-01-23T13:52:25.02833Z"
    },
    "papermill": {
     "duration": 2.140996,
     "end_time": "2022-04-14T14:59:31.328158",
     "exception": false,
     "start_time": "2022-04-14T14:59:29.187162",
     "status": "completed"
    },
    "tags": []
   },
   "outputs": [],
   "source": [
    "train.to_pickle(\"train.pkl\")"
   ]
  },
  {
   "cell_type": "code",
   "execution_count": 8,
   "id": "c8de3569",
   "metadata": {
    "execution": {
     "iopub.execute_input": "2022-04-14T14:59:31.619027Z",
     "iopub.status.busy": "2022-04-14T14:59:31.618357Z",
     "iopub.status.idle": "2022-04-14T14:59:31.622137Z",
     "shell.execute_reply": "2022-04-14T14:59:31.621617Z",
     "shell.execute_reply.started": "2022-01-23T13:53:56.141171Z"
    },
    "papermill": {
     "duration": 0.278645,
     "end_time": "2022-04-14T14:59:31.622265",
     "exception": false,
     "start_time": "2022-04-14T14:59:31.343620",
     "status": "completed"
    },
    "tags": []
   },
   "outputs": [
    {
     "data": {
      "text/plain": [
       "21"
      ]
     },
     "execution_count": 8,
     "metadata": {},
     "output_type": "execute_result"
    }
   ],
   "source": [
    "del train\n",
    "gc.collect()"
   ]
  },
  {
   "cell_type": "markdown",
   "id": "ba02293a",
   "metadata": {
    "papermill": {
     "duration": 0.016056,
     "end_time": "2022-04-14T14:59:31.654320",
     "exception": false,
     "start_time": "2022-04-14T14:59:31.638264",
     "status": "completed"
    },
    "tags": []
   },
   "source": [
    "## Read Pickle file"
   ]
  },
  {
   "cell_type": "code",
   "execution_count": 9,
   "id": "c395989e",
   "metadata": {
    "execution": {
     "iopub.execute_input": "2022-04-14T14:59:31.693262Z",
     "iopub.status.busy": "2022-04-14T14:59:31.692573Z",
     "iopub.status.idle": "2022-04-14T14:59:32.575194Z",
     "shell.execute_reply": "2022-04-14T14:59:32.574630Z",
     "shell.execute_reply.started": "2022-01-23T13:56:55.117449Z"
    },
    "papermill": {
     "duration": 0.904475,
     "end_time": "2022-04-14T14:59:32.575345",
     "exception": false,
     "start_time": "2022-04-14T14:59:31.670870",
     "status": "completed"
    },
    "tags": []
   },
   "outputs": [
    {
     "data": {
      "text/html": [
       "<div>\n",
       "<style scoped>\n",
       "    .dataframe tbody tr th:only-of-type {\n",
       "        vertical-align: middle;\n",
       "    }\n",
       "\n",
       "    .dataframe tbody tr th {\n",
       "        vertical-align: top;\n",
       "    }\n",
       "\n",
       "    .dataframe thead th {\n",
       "        text-align: right;\n",
       "    }\n",
       "</style>\n",
       "<table border=\"1\" class=\"dataframe\">\n",
       "  <thead>\n",
       "    <tr style=\"text-align: right;\">\n",
       "      <th></th>\n",
       "      <th>investment_id</th>\n",
       "      <th>time_id</th>\n",
       "      <th>f_0</th>\n",
       "      <th>f_1</th>\n",
       "      <th>f_2</th>\n",
       "      <th>f_3</th>\n",
       "      <th>f_4</th>\n",
       "      <th>f_5</th>\n",
       "      <th>f_6</th>\n",
       "      <th>f_7</th>\n",
       "      <th>...</th>\n",
       "      <th>f_291</th>\n",
       "      <th>f_292</th>\n",
       "      <th>f_293</th>\n",
       "      <th>f_294</th>\n",
       "      <th>f_295</th>\n",
       "      <th>f_296</th>\n",
       "      <th>f_297</th>\n",
       "      <th>f_298</th>\n",
       "      <th>f_299</th>\n",
       "      <th>target</th>\n",
       "    </tr>\n",
       "  </thead>\n",
       "  <tbody>\n",
       "    <tr>\n",
       "      <th>0</th>\n",
       "      <td>1</td>\n",
       "      <td>0</td>\n",
       "      <td>0.932617</td>\n",
       "      <td>0.113708</td>\n",
       "      <td>-0.402100</td>\n",
       "      <td>0.378418</td>\n",
       "      <td>-0.203979</td>\n",
       "      <td>-0.413574</td>\n",
       "      <td>0.965820</td>\n",
       "      <td>1.230469</td>\n",
       "      <td>...</td>\n",
       "      <td>-1.095703</td>\n",
       "      <td>0.200073</td>\n",
       "      <td>0.819336</td>\n",
       "      <td>0.941406</td>\n",
       "      <td>-0.086792</td>\n",
       "      <td>-1.086914</td>\n",
       "      <td>-1.044922</td>\n",
       "      <td>-0.287598</td>\n",
       "      <td>0.321533</td>\n",
       "      <td>-0.300781</td>\n",
       "    </tr>\n",
       "    <tr>\n",
       "      <th>1</th>\n",
       "      <td>2</td>\n",
       "      <td>0</td>\n",
       "      <td>0.811035</td>\n",
       "      <td>-0.514160</td>\n",
       "      <td>0.742188</td>\n",
       "      <td>-0.616699</td>\n",
       "      <td>-0.194214</td>\n",
       "      <td>1.771484</td>\n",
       "      <td>1.427734</td>\n",
       "      <td>1.133789</td>\n",
       "      <td>...</td>\n",
       "      <td>0.912598</td>\n",
       "      <td>-0.734375</td>\n",
       "      <td>0.819336</td>\n",
       "      <td>0.941406</td>\n",
       "      <td>-0.387695</td>\n",
       "      <td>-1.086914</td>\n",
       "      <td>-0.929688</td>\n",
       "      <td>-0.974121</td>\n",
       "      <td>-0.343506</td>\n",
       "      <td>-0.231079</td>\n",
       "    </tr>\n",
       "    <tr>\n",
       "      <th>2</th>\n",
       "      <td>6</td>\n",
       "      <td>0</td>\n",
       "      <td>0.394043</td>\n",
       "      <td>0.615723</td>\n",
       "      <td>0.567871</td>\n",
       "      <td>-0.607910</td>\n",
       "      <td>0.068909</td>\n",
       "      <td>-1.083008</td>\n",
       "      <td>0.979492</td>\n",
       "      <td>-1.125977</td>\n",
       "      <td>...</td>\n",
       "      <td>0.912598</td>\n",
       "      <td>-0.551758</td>\n",
       "      <td>-1.220703</td>\n",
       "      <td>-1.060547</td>\n",
       "      <td>-0.219116</td>\n",
       "      <td>-1.086914</td>\n",
       "      <td>-0.612305</td>\n",
       "      <td>-0.113953</td>\n",
       "      <td>0.243652</td>\n",
       "      <td>0.568848</td>\n",
       "    </tr>\n",
       "    <tr>\n",
       "      <th>3</th>\n",
       "      <td>7</td>\n",
       "      <td>0</td>\n",
       "      <td>-2.343750</td>\n",
       "      <td>-0.011871</td>\n",
       "      <td>1.875000</td>\n",
       "      <td>-0.606445</td>\n",
       "      <td>-0.586914</td>\n",
       "      <td>-0.815918</td>\n",
       "      <td>0.778320</td>\n",
       "      <td>0.299072</td>\n",
       "      <td>...</td>\n",
       "      <td>0.912598</td>\n",
       "      <td>-0.266357</td>\n",
       "      <td>-1.220703</td>\n",
       "      <td>0.941406</td>\n",
       "      <td>-0.608887</td>\n",
       "      <td>0.104919</td>\n",
       "      <td>-0.783203</td>\n",
       "      <td>1.151367</td>\n",
       "      <td>-0.773438</td>\n",
       "      <td>-1.064453</td>\n",
       "    </tr>\n",
       "    <tr>\n",
       "      <th>4</th>\n",
       "      <td>8</td>\n",
       "      <td>0</td>\n",
       "      <td>0.842285</td>\n",
       "      <td>-0.262939</td>\n",
       "      <td>2.330078</td>\n",
       "      <td>-0.583496</td>\n",
       "      <td>-0.618164</td>\n",
       "      <td>-0.742676</td>\n",
       "      <td>-0.946777</td>\n",
       "      <td>1.230469</td>\n",
       "      <td>...</td>\n",
       "      <td>0.912598</td>\n",
       "      <td>-0.741211</td>\n",
       "      <td>-1.220703</td>\n",
       "      <td>0.941406</td>\n",
       "      <td>-0.588379</td>\n",
       "      <td>0.104919</td>\n",
       "      <td>0.753418</td>\n",
       "      <td>1.345703</td>\n",
       "      <td>-0.737793</td>\n",
       "      <td>-0.531738</td>\n",
       "    </tr>\n",
       "  </tbody>\n",
       "</table>\n",
       "<p>5 rows × 303 columns</p>\n",
       "</div>"
      ],
      "text/plain": [
       "   investment_id  time_id       f_0       f_1       f_2       f_3       f_4  \\\n",
       "0              1        0  0.932617  0.113708 -0.402100  0.378418 -0.203979   \n",
       "1              2        0  0.811035 -0.514160  0.742188 -0.616699 -0.194214   \n",
       "2              6        0  0.394043  0.615723  0.567871 -0.607910  0.068909   \n",
       "3              7        0 -2.343750 -0.011871  1.875000 -0.606445 -0.586914   \n",
       "4              8        0  0.842285 -0.262939  2.330078 -0.583496 -0.618164   \n",
       "\n",
       "        f_5       f_6       f_7  ...     f_291     f_292     f_293     f_294  \\\n",
       "0 -0.413574  0.965820  1.230469  ... -1.095703  0.200073  0.819336  0.941406   \n",
       "1  1.771484  1.427734  1.133789  ...  0.912598 -0.734375  0.819336  0.941406   \n",
       "2 -1.083008  0.979492 -1.125977  ...  0.912598 -0.551758 -1.220703 -1.060547   \n",
       "3 -0.815918  0.778320  0.299072  ...  0.912598 -0.266357 -1.220703  0.941406   \n",
       "4 -0.742676 -0.946777  1.230469  ...  0.912598 -0.741211 -1.220703  0.941406   \n",
       "\n",
       "      f_295     f_296     f_297     f_298     f_299    target  \n",
       "0 -0.086792 -1.086914 -1.044922 -0.287598  0.321533 -0.300781  \n",
       "1 -0.387695 -1.086914 -0.929688 -0.974121 -0.343506 -0.231079  \n",
       "2 -0.219116 -1.086914 -0.612305 -0.113953  0.243652  0.568848  \n",
       "3 -0.608887  0.104919 -0.783203  1.151367 -0.773438 -1.064453  \n",
       "4 -0.588379  0.104919  0.753418  1.345703 -0.737793 -0.531738  \n",
       "\n",
       "[5 rows x 303 columns]"
      ]
     },
     "execution_count": 9,
     "metadata": {},
     "output_type": "execute_result"
    }
   ],
   "source": [
    "train = pd.read_pickle(\"/kaggle/working/train.pkl\")\n",
    "train.head()"
   ]
  }
 ],
 "metadata": {
  "kernelspec": {
   "display_name": "Python 3",
   "language": "python",
   "name": "python3"
  },
  "language_info": {
   "codemirror_mode": {
    "name": "ipython",
    "version": 3
   },
   "file_extension": ".py",
   "mimetype": "text/x-python",
   "name": "python",
   "nbconvert_exporter": "python",
   "pygments_lexer": "ipython3",
   "version": "3.7.12"
  },
  "papermill": {
   "default_parameters": {},
   "duration": 174.353281,
   "end_time": "2022-04-14T14:59:33.608322",
   "environment_variables": {},
   "exception": null,
   "input_path": "__notebook__.ipynb",
   "output_path": "__notebook__.ipynb",
   "parameters": {},
   "start_time": "2022-04-14T14:56:39.255041",
   "version": "2.3.3"
  }
 },
 "nbformat": 4,
 "nbformat_minor": 5
}
